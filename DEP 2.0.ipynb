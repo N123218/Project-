{
 "cells": [
  {
   "cell_type": "code",
   "execution_count": 22,
   "id": "3af3cd6a",
   "metadata": {
    "ExecuteTime": {
     "end_time": "2023-05-19T20:13:30.919205Z",
     "start_time": "2023-05-19T20:13:25.375458Z"
    }
   },
   "outputs": [
    {
     "name": "stdout",
     "output_type": "stream",
     "text": [
      "Requirement already satisfied: streamlit in c:\\users\\khan\\anaconda3\\lib\\site-packages (1.17.0)\n",
      "Requirement already satisfied: altair>=3.2.0 in c:\\users\\khan\\anaconda3\\lib\\site-packages (from streamlit) (4.2.2)\n",
      "Requirement already satisfied: blinker>=1.0.0 in c:\\users\\khan\\anaconda3\\lib\\site-packages (from streamlit) (1.5)\n",
      "Requirement already satisfied: cachetools>=4.0 in c:\\users\\khan\\anaconda3\\lib\\site-packages (from streamlit) (5.3.0)\n",
      "Requirement already satisfied: click>=7.0 in c:\\users\\khan\\anaconda3\\lib\\site-packages (from streamlit) (8.0.4)\n",
      "Requirement already satisfied: importlib-metadata>=1.4 in c:\\users\\khan\\anaconda3\\lib\\site-packages (from streamlit) (4.11.3)\n",
      "Requirement already satisfied: numpy in c:\\users\\khan\\appdata\\roaming\\python\\python39\\site-packages (from streamlit) (1.24.2)\n",
      "Requirement already satisfied: packaging>=14.1 in c:\\users\\khan\\appdata\\roaming\\python\\python39\\site-packages (from streamlit) (23.0)\n",
      "Requirement already satisfied: pandas>=0.21.0 in c:\\users\\khan\\anaconda3\\lib\\site-packages (from streamlit) (1.4.4)\n",
      "Requirement already satisfied: pillow>=6.2.0 in c:\\users\\khan\\appdata\\roaming\\python\\python39\\site-packages (from streamlit) (9.4.0)\n",
      "Requirement already satisfied: protobuf<4,>=3.12 in c:\\users\\khan\\anaconda3\\lib\\site-packages (from streamlit) (3.19.6)\n",
      "Requirement already satisfied: pyarrow>=4.0 in c:\\users\\khan\\anaconda3\\lib\\site-packages (from streamlit) (11.0.0)\n",
      "Requirement already satisfied: pympler>=0.9 in c:\\users\\khan\\anaconda3\\lib\\site-packages (from streamlit) (1.0.1)\n",
      "Requirement already satisfied: python-dateutil in c:\\users\\khan\\appdata\\roaming\\python\\python39\\site-packages (from streamlit) (2.8.2)\n",
      "Requirement already satisfied: requests>=2.4 in c:\\users\\khan\\anaconda3\\lib\\site-packages (from streamlit) (2.28.1)\n",
      "Requirement already satisfied: rich>=10.11.0 in c:\\users\\khan\\anaconda3\\lib\\site-packages (from streamlit) (13.3.1)\n",
      "Requirement already satisfied: semver in c:\\users\\khan\\anaconda3\\lib\\site-packages (from streamlit) (2.13.0)\n",
      "Requirement already satisfied: toml in c:\\users\\khan\\anaconda3\\lib\\site-packages (from streamlit) (0.10.2)\n",
      "Requirement already satisfied: typing-extensions>=3.10.0.0 in c:\\users\\khan\\anaconda3\\lib\\site-packages (from streamlit) (4.3.0)\n",
      "Requirement already satisfied: tzlocal>=1.1 in c:\\users\\khan\\anaconda3\\lib\\site-packages (from streamlit) (4.2)\n",
      "Requirement already satisfied: validators>=0.2 in c:\\users\\khan\\anaconda3\\lib\\site-packages (from streamlit) (0.20.0)\n",
      "Requirement already satisfied: gitpython!=3.1.19 in c:\\users\\khan\\anaconda3\\lib\\site-packages (from streamlit) (3.1.30)\n",
      "Requirement already satisfied: pydeck>=0.1.dev5 in c:\\users\\khan\\anaconda3\\lib\\site-packages (from streamlit) (0.8.0)\n",
      "Requirement already satisfied: tornado>=5.0 in c:\\users\\khan\\anaconda3\\lib\\site-packages (from streamlit) (6.1)\n",
      "Requirement already satisfied: watchdog in c:\\users\\khan\\anaconda3\\lib\\site-packages (from streamlit) (2.1.6)\n",
      "Requirement already satisfied: entrypoints in c:\\users\\khan\\anaconda3\\lib\\site-packages (from altair>=3.2.0->streamlit) (0.4)\n",
      "Requirement already satisfied: jinja2 in c:\\users\\khan\\anaconda3\\lib\\site-packages (from altair>=3.2.0->streamlit) (3.0.3)\n",
      "Requirement already satisfied: jsonschema>=3.0 in c:\\users\\khan\\anaconda3\\lib\\site-packages (from altair>=3.2.0->streamlit) (4.16.0)\n",
      "Requirement already satisfied: toolz in c:\\users\\khan\\anaconda3\\lib\\site-packages (from altair>=3.2.0->streamlit) (0.11.2)\n",
      "Requirement already satisfied: colorama in c:\\users\\khan\\anaconda3\\lib\\site-packages (from click>=7.0->streamlit) (0.4.6)\n",
      "Requirement already satisfied: gitdb<5,>=4.0.1 in c:\\users\\khan\\anaconda3\\lib\\site-packages (from gitpython!=3.1.19->streamlit) (4.0.10)\n",
      "Requirement already satisfied: zipp>=0.5 in c:\\users\\khan\\appdata\\roaming\\python\\python39\\site-packages (from importlib-metadata>=1.4->streamlit) (3.15.0)\n",
      "Requirement already satisfied: pytz>=2020.1 in c:\\users\\khan\\anaconda3\\lib\\site-packages (from pandas>=0.21.0->streamlit) (2022.1)\n",
      "Requirement already satisfied: six>=1.5 in c:\\users\\khan\\appdata\\roaming\\python\\python39\\site-packages (from python-dateutil->streamlit) (1.16.0)\n",
      "Requirement already satisfied: charset-normalizer<3,>=2 in c:\\users\\khan\\anaconda3\\lib\\site-packages (from requests>=2.4->streamlit) (2.0.4)\n",
      "Requirement already satisfied: idna<4,>=2.5 in c:\\users\\khan\\anaconda3\\lib\\site-packages (from requests>=2.4->streamlit) (3.3)\n",
      "Requirement already satisfied: urllib3<1.27,>=1.21.1 in c:\\users\\khan\\anaconda3\\lib\\site-packages (from requests>=2.4->streamlit) (1.26.11)\n",
      "Requirement already satisfied: certifi>=2017.4.17 in c:\\users\\khan\\anaconda3\\lib\\site-packages (from requests>=2.4->streamlit) (2022.9.14)\n",
      "Requirement already satisfied: markdown-it-py<3.0.0,>=2.1.0 in c:\\users\\khan\\anaconda3\\lib\\site-packages (from rich>=10.11.0->streamlit) (2.1.0)\n",
      "Requirement already satisfied: pygments<3.0.0,>=2.14.0 in c:\\users\\khan\\anaconda3\\lib\\site-packages (from rich>=10.11.0->streamlit) (2.14.0)\n",
      "Requirement already satisfied: pytz-deprecation-shim in c:\\users\\khan\\anaconda3\\lib\\site-packages (from tzlocal>=1.1->streamlit) (0.1.0.post0)\n",
      "Requirement already satisfied: tzdata in c:\\users\\khan\\anaconda3\\lib\\site-packages (from tzlocal>=1.1->streamlit) (2022.7)\n",
      "Requirement already satisfied: decorator>=3.4.0 in c:\\users\\khan\\anaconda3\\lib\\site-packages (from validators>=0.2->streamlit) (5.1.1)\n",
      "Requirement already satisfied: smmap<6,>=3.0.1 in c:\\users\\khan\\anaconda3\\lib\\site-packages (from gitdb<5,>=4.0.1->gitpython!=3.1.19->streamlit) (5.0.0)\n",
      "Requirement already satisfied: MarkupSafe>=2.0 in c:\\users\\khan\\anaconda3\\lib\\site-packages (from jinja2->altair>=3.2.0->streamlit) (2.1.2)\n",
      "Requirement already satisfied: attrs>=17.4.0 in c:\\users\\khan\\anaconda3\\lib\\site-packages (from jsonschema>=3.0->altair>=3.2.0->streamlit) (21.4.0)\n",
      "Requirement already satisfied: pyrsistent!=0.17.0,!=0.17.1,!=0.17.2,>=0.14.0 in c:\\users\\khan\\anaconda3\\lib\\site-packages (from jsonschema>=3.0->altair>=3.2.0->streamlit) (0.18.0)\n",
      "Requirement already satisfied: mdurl~=0.1 in c:\\users\\khan\\anaconda3\\lib\\site-packages (from markdown-it-py<3.0.0,>=2.1.0->rich>=10.11.0->streamlit) (0.1.2)\n"
     ]
    },
    {
     "name": "stderr",
     "output_type": "stream",
     "text": [
      "WARNING: Ignoring invalid distribution -atplotlib (c:\\users\\khan\\anaconda3\\lib\\site-packages)\n",
      "WARNING: Ignoring invalid distribution -atplotlib (c:\\users\\khan\\anaconda3\\lib\\site-packages)\n"
     ]
    }
   ],
   "source": [
    "!pip install streamlit "
   ]
  },
  {
   "cell_type": "code",
   "execution_count": 23,
   "id": "c11b7671",
   "metadata": {
    "ExecuteTime": {
     "end_time": "2023-05-19T20:13:36.494864Z",
     "start_time": "2023-05-19T20:13:30.922704Z"
    }
   },
   "outputs": [
    {
     "name": "stderr",
     "output_type": "stream",
     "text": [
      "WARNING: Ignoring invalid distribution -atplotlib (c:\\users\\khan\\anaconda3\\lib\\site-packages)\n",
      "WARNING: Ignoring invalid distribution -atplotlib (c:\\users\\khan\\anaconda3\\lib\\site-packages)\n",
      "'npm' is not recognized as an internal or external command,\n",
      "operable program or batch file.\n"
     ]
    }
   ],
   "source": [
    "!pip install -q streamlit\n",
    "!npm install -g localtunnel -U"
   ]
  },
  {
   "cell_type": "code",
   "execution_count": 24,
   "id": "2a110eab",
   "metadata": {
    "ExecuteTime": {
     "end_time": "2023-05-19T20:13:42.153868Z",
     "start_time": "2023-05-19T20:13:36.497863Z"
    }
   },
   "outputs": [
    {
     "name": "stdout",
     "output_type": "stream",
     "text": [
      "Requirement already satisfied: pip in c:\\users\\khan\\anaconda3\\lib\\site-packages (23.1.2)\n"
     ]
    },
    {
     "name": "stderr",
     "output_type": "stream",
     "text": [
      "WARNING: Ignoring invalid distribution -atplotlib (c:\\users\\khan\\anaconda3\\lib\\site-packages)\n",
      "WARNING: Ignoring invalid distribution -atplotlib (c:\\users\\khan\\anaconda3\\lib\\site-packages)\n"
     ]
    }
   ],
   "source": [
    "!python -m pip install --upgrade pip"
   ]
  },
  {
   "cell_type": "code",
   "execution_count": 25,
   "id": "ffe68b98",
   "metadata": {
    "ExecuteTime": {
     "end_time": "2023-05-19T20:13:42.169917Z",
     "start_time": "2023-05-19T20:13:42.153868Z"
    }
   },
   "outputs": [],
   "source": [
    "import pickle\n",
    "import streamlit as st\n",
    "import pandas as pd\n",
    "import numpy as np"
   ]
  },
  {
   "cell_type": "code",
   "execution_count": 31,
   "id": "49df4ebe",
   "metadata": {
    "ExecuteTime": {
     "end_time": "2023-05-19T20:16:38.588140Z",
     "start_time": "2023-05-19T20:16:38.557076Z"
    }
   },
   "outputs": [
    {
     "name": "stdout",
     "output_type": "stream",
     "text": [
      "Writing customer_segmentation_app.py\n"
     ]
    }
   ],
   "source": [
    "%%writefile customer_segmentation_app.py \n",
    "classifier = pickle.load(open(\"randomforest_model.pickle\",'rb'))\n",
    "\n",
    "\n",
    "#page configuration\n",
    "st.set_page_config(page_title = 'Customer Segmentation Web App', layout='centered')\n",
    "st.title('Customer Segmentation Web App')\n",
    "\n",
    "# customer segmentation function\n",
    "def segment_customers(input_data):\n",
    "    prediction = classifier.predict(pd.DataFrame(input_data, columns=['AGE' ,'STENOK_AN' , 'FK_STENOK' ,'IBS_POST' ,'ZSN_A', 'nr_04' , 'S_AD_KBRIG' , 'D_AD_KBRIG',\n",
    "'S_AD_ORIT' , 'D_AD_ORIT' , 'K_SH_POST' ,'ant_im' , 'lat_im' , 'ritm_ecg_p_07' , 'n_r_ecg_p_04' , 'n_p_ecg_p_10' , \n",
    "'n_p_ecg_p_12' ,'K_BLOOD' ,'NA_BLOOD' ,'ALT_BLOOD','AST_BLOOD' ,'L_BLOOD' , 'ROE' , 'TIME_B_S' , 'R_AB_1_n' , 'R_AB_3_n' \n",
    ",'NA_KB','NOT_NA_KB', 'NITR_S' , 'NA_R_1_n' , 'GEPAR_S_n' ,'RAZRIV' ,'DRESSLER' ,'ZSN','REC_IM']))\n",
    "    print(prediction)\n",
    "    pred_1 = 0\n",
    "    if prediction == 0:\n",
    "            pred_1 = 'cluster 0'\n",
    "\n",
    "    elif prediction == 1:\n",
    "            pred_1 = 'cluster 1'\n",
    "\n",
    "    elif prediction == 2:\n",
    "            pred_1 = 'cluster 2'\n",
    "\n",
    "    elif prediction == 3:\n",
    "            pred_1 = 'cluster 3'\n",
    "    return pred_1\n",
    "\n",
    "def main():\n",
    "   \n",
    "    AGE = st.sidebar.number_input('insert the AGE')\n",
    "    SEX = st.sidebar.selectbox('SEX',('1','0'))\n",
    "    INF_ANAM = st.sidebar.selectbox('INF_ANAM',('0','1','2','3'))\n",
    "    STENOK_AN = st.sidebar.selectbox(\"insert the STENOK_AN\",('0','1','2','3','4','5','6'))\n",
    "    FK_STENOK = st.sidebar.selectbox(\"Insert FK_STENOK\",('0','1','2','3','4','7'))\n",
    "    IBS_POST = st.sidebar.selectbox('IBS_POST',('0','1','2',))\n",
    "    IBS_NASL = st.sidebar.selectbox('IBS_NASL',('1','0'))\n",
    "    ZSN= st.sidebar.selectbox(\"Insert the ZSN\",('0','1'))\n",
    "    nr04 = st.sidebar.selectbox(\"Insert the nr04\",('0','1'))\n",
    "    D_AD_KBRIG = st.sidebar.number_input('insert D_AD_KBRIG')\n",
    "    S_AD_KBRIG = st.sidebar.number_input('insert S_AD_KBRIG')\n",
    "    S_AD_ORIT = st.sidebar.number_input('insert S_AD_ORIT')\n",
    "    D_AD_ORIT = st.sidebar.number_input('insert D_AD_ORIT')\n",
    "    K_SH_POST = st.sidebar.selectbox(\"Insert the K_SH_POST\",('0','1'))\n",
    "    ant_im = st.sidebar.selectbox(\"Insert the ant_im\",('0','1','2','3','4'))\n",
    "    lat_im = st.sidebar.selectbox(\"Insert the lat_im\",('0','1','2','3','4'))\n",
    "    ritm_ecg_p_07= st.sidebar.selectbox(\"Insert the ritm_ecg_p_07\",('0','1'))\n",
    "    n_r_ecg_p_04= st.sidebar.selectbox(\"Insert the n_r_ecg_p_04\",('0','1'))\n",
    "    n_p_ecg_p_10= st.sidebar.selectbox(\"Insert the n_p_ecg_p_10\",('0','1'))\n",
    "    n_p_ecg_p_12= st.sidebar.selectbox(\"Insert the n_p_ecg_p_12\",('0','1'))\n",
    "    K_BLOOD= st.sidebar.number_input(\"Insert the K_BLOOD\")\n",
    "    Na_BLOOD= st.sidebar.number_input(\"Insert the Na_BLOOD\")\n",
    "    ALT_BLOOD= st.sidebar.number_input(\"Insert the ALT_BLOOD\")\n",
    "    AST_BLOOD= st.sidebar.number_input(\"Insert the AST_BLOOD\")\n",
    "    KFK_BLOOD= st.sidebar.number_input(\"Insert the KFK_BLOOD\")\n",
    "    L_BLOOD= st.sidebar.number_input(\"Insert the L_BLOOD\")\n",
    "    ROE= st.sidebar.number_input(\"Insert the ROE\")\n",
    "    TIME_B_S= st.sidebar.selectbox(\"Insert the TIME_B_S\",('1','2','3','4','5','6','7','8','9'))\n",
    "    R_AB_1_n= st.sidebar.selectbox(\"Insert the R_AB_1_n\",('0','1','2','3'))\n",
    "    R_AB_3_n= st.sidebar.selectbox(\"Insert the R_AB_3_n\",('0','1','2','3'))\n",
    "    NA_KB= st.sidebar.selectbox(\"Insert the NA_KB\",('0','1'))\n",
    "    NOT_NA_KB= st.sidebar.selectbox(\"Insert the NOT_NA_KB\",('0','1'))\n",
    "    NITR_S= st.sidebar.selectbox(\"Insert the NITR_S\",('0','1'))\n",
    "    NA_R_1_n= st.sidebar.selectbox(\"Insert the NA_R_1_n\",('0,''1','2','3','4'))\n",
    "    GEPAR_S_n= st.sidebar.selectbox(\"Insert the GEPAR_S_n\",('0','1'))\n",
    "    RAZRIV= st.sidebar.selectbox(\"Insert the RAZRIV\",('0','1'))\n",
    "    DRESSLER= st.sidebar.selectbox(\"Insert the DRESSLER\",('0','1'))\n",
    "    ZSN= st.sidebar.selectbox(\"Insert the ZSN\",('0','1'))\n",
    "    REC_IM= st.sidebar.selectbox(\"Insert the REC_IM\",('0','1'))\n",
    "\n",
    "    \n",
    "    \n",
    "    result = \"\"\n",
    "\n",
    "    # when 'Predict' is clicked, make the prediction and store it\n",
    "    if st.button(\"Segment Customer\"):\n",
    "        result=segment_customers([[AGE ,STENOK_AN, FK_STENOK ,IBS_POST ,ZSN_A, nr_04 , S_AD_KBRIG , D_AD_KBRIG,AD_ORIT , D_AD_ORIT , K_SH_POST ,ant_im , lat_im , ritm_ecg_p_07 , n_r_ecg_p_04 , n_p_ecg_p_10 ,n_p_ecg_p_12,K_BLOOD ,NA_BLOOD ,ALT_BLOOD,AST_BLOOD ,L_BLOOD , ROE , TIME_B_S , R_AB_1_n , R_AB_3_n  ,NA_KB,NOT_NA_KB, NITR_S , NA_R_1_n , GEPAR_S_n ,RAZRIV ,DRESSLER ,ZSN,REC_IM,LET_IS]])\n",
    "        st.success(result)\n",
    "    \n",
    "\n",
    "if __name__ == '__main__':\n",
    "        main ()\n",
    "        "
   ]
  },
  {
   "cell_type": "code",
   "execution_count": null,
   "id": "e688b2f4",
   "metadata": {
    "ExecuteTime": {
     "start_time": "2023-05-19T20:17:05.141Z"
    }
   },
   "outputs": [],
   "source": [
    "!streamlit run customer_segmentation_app.py & npx localtunnel --port 8501"
   ]
  },
  {
   "cell_type": "code",
   "execution_count": null,
   "id": "3837aaa3",
   "metadata": {},
   "outputs": [],
   "source": []
  }
 ],
 "metadata": {
  "kernelspec": {
   "display_name": "Python 3 (ipykernel)",
   "language": "python",
   "name": "python3"
  },
  "language_info": {
   "codemirror_mode": {
    "name": "ipython",
    "version": 3
   },
   "file_extension": ".py",
   "mimetype": "text/x-python",
   "name": "python",
   "nbconvert_exporter": "python",
   "pygments_lexer": "ipython3",
   "version": "3.9.13"
  }
 },
 "nbformat": 4,
 "nbformat_minor": 5
}
